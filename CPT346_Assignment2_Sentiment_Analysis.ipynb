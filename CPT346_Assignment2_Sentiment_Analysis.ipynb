{
  "nbformat": 4,
  "nbformat_minor": 0,
  "metadata": {
    "colab": {
      "name": "CPT346_Assignment2_Sentiment Analysis.ipynb",
      "provenance": [],
      "collapsed_sections": [],
      "mount_file_id": "1A_vqk4ztjwJHXf7IV5YHK3gaqiAe5CNq",
      "authorship_tag": "ABX9TyMA9gjNiKGlSHPQq5OUyBzk"
    },
    "kernelspec": {
      "name": "python3",
      "display_name": "Python 3"
    },
    "language_info": {
      "name": "python"
    },
    "accelerator": "GPU"
  },
  "cells": [
    {
      "cell_type": "markdown",
      "source": [
        "# **Set-up of the project**"
      ],
      "metadata": {
        "id": "1BqIFeLP7qRP"
      }
    },
    {
      "cell_type": "code",
      "execution_count": null,
      "metadata": {
        "id": "rqA7-Hg8_vTG"
      },
      "outputs": [],
      "source": [
        "import numpy as np\n",
        "import pandas as pd\n",
        "import io\n",
        "import matplotlib.pyplot as plt\n",
        "import seaborn as sn\n",
        "!pip install text_hammer\n",
        "import text_hammer as th\n",
        "import string\n",
        "import tqdm\n",
        "from tqdm._tqdm_notebook import tqdm_notebook\n",
        "import nltk\n",
        "from nltk.corpus import stopwords\n",
        "import tensorflow\n",
        "from tensorflow.keras.utils import to_categorical\n",
        "from tensorflow.keras.models import Sequential \n",
        "from tensorflow.keras.layers import Dense, Activation, LSTM ,Bidirectional, Flatten, Dropout\n",
        "from keras.preprocessing.text import Tokenizer\n",
        "from keras.preprocessing.sequence import pad_sequences\n",
        "from keras.callbacks import EarlyStopping, ModelCheckpoint\n",
        "from keras.models import load_model\n",
        "from sklearn import metrics"
      ]
    },
    {
      "cell_type": "markdown",
      "source": [
        "# **Import data**"
      ],
      "metadata": {
        "id": "Op3cmBsj8Ar_"
      }
    },
    {
      "cell_type": "code",
      "source": [
        "# retrieve the dataset from github\n",
        "url1 = 'https://raw.githubusercontent.com/baiyuankok/Sentiment-Analysis/master/train.csv'\n",
        "url2 = 'https://raw.githubusercontent.com/baiyuankok/Sentiment-Analysis/master/test.csv'\n",
        "url3 = 'https://raw.githubusercontent.com/baiyuankok/Sentiment-Analysis/master/validation.csv'\n",
        "\n",
        "# news headlines are referred as \"Input\", categories are referred as \"Sentiment\"\n",
        "df_train = pd.read_csv(url1, names=['Input', 'Sentiment'])\n",
        "df_test = pd.read_csv(url2, names=['Input', 'Sentiment'])\n",
        "df_val = pd.read_csv(url3, names=['Input', 'Sentiment'])"
      ],
      "metadata": {
        "id": "WgZCCeGkATy0"
      },
      "execution_count": null,
      "outputs": []
    },
    {
      "cell_type": "markdown",
      "source": [
        "# **Data preparation**"
      ],
      "metadata": {
        "id": "VvbV8eaW82ry"
      }
    },
    {
      "cell_type": "markdown",
      "source": [
        "### Data cleaning"
      ],
      "metadata": {
        "id": "UZTzmiqW9HlI"
      }
    },
    {
      "cell_type": "code",
      "source": [
        "nltk.download('stopwords')\n",
        "tqdm_notebook.pandas()\n",
        "stop_words_list = stopwords.words(\"english\")\n",
        "white_list = [\"not\", \"no\"] # store the desired stopwords\n",
        "\n",
        "punctuation_table  = str.maketrans(\"\",\"\", string.punctuation)\n",
        "del punctuation_table[ord(\"%\")] #deleting % from punctuation table\n",
        "del punctuation_table[ord(\".\")] #deleting . from punctuation table\n",
        "del punctuation_table[ord(\"-\")] #deleting - from punctuation table\n",
        "\n",
        "def text_preprocessing(df,col_name):\n",
        "    df[col_name] = df[col_name].apply(lambda x: str(x).lower())\n",
        "    df[col_name] = df[col_name].apply(lambda x: th.cont_exp(x)) # usage example: you're -> you are; i'm -> i am\n",
        "    df[col_name] = df[col_name].apply(lambda x: th.remove_emails(x))\n",
        "    df[col_name] = df[col_name].apply(lambda x: th.remove_html_tags(x))\n",
        "    df[col_name] = df[col_name].apply(lambda x: th.remove_urls(x))\n",
        "    df[col_name] = df[col_name].apply(lambda x: th.remove_accented_chars(x))\n",
        "    df[col_name] = df[col_name].apply(lambda x: str(x).translate(punctuation_table))\n",
        "    df[col_name] = df[col_name].apply(lambda x: ' '.join([word for word in x.split(' ') if (word not in stop_words_list or word in white_list)]))\n",
        "    \n",
        "    return(df)"
      ],
      "metadata": {
        "id": "D3jiACEoKn1V"
      },
      "execution_count": null,
      "outputs": []
    },
    {
      "cell_type": "code",
      "source": [
        "df__train_cleaned = text_preprocessing(df_train,'Input')"
      ],
      "metadata": {
        "id": "KjYLWBSOL3lm"
      },
      "execution_count": null,
      "outputs": []
    },
    {
      "cell_type": "markdown",
      "source": [
        "### Tokenization"
      ],
      "metadata": {
        "id": "R1GysadM-G4W"
      }
    },
    {
      "cell_type": "code",
      "source": [
        "tokenizer = Tokenizer(filters=punctuation_table, lower=True)\n",
        "tokenizer.fit_on_texts(df__train_cleaned['Input']) # create vocabulary with training texts"
      ],
      "metadata": {
        "id": "1e5xKWAFcdJD"
      },
      "execution_count": null,
      "outputs": []
    },
    {
      "cell_type": "code",
      "source": [
        "max_length = 50\n",
        "X_train = tokenizer.texts_to_sequences(df__train_cleaned['Input']) # create lists (sequences) that are collection of integers representing words\n",
        "X_train_pad = pad_sequences(X_train, maxlen = max_length, padding = 'post') # pad sequences to the same length\n",
        "X_test = tokenizer.texts_to_sequences(df_test.Input)\n",
        "X_test_pad = pad_sequences(X_test, maxlen = max_length, padding = 'post')\n",
        "X_val = tokenizer.texts_to_sequences(df_val.Input)\n",
        "X_val_pad = pad_sequences(X_val, maxlen = max_length, padding = 'post')"
      ],
      "metadata": {
        "id": "1FzMZSyBoUGB"
      },
      "execution_count": null,
      "outputs": []
    },
    {
      "cell_type": "markdown",
      "source": [
        "### Convert target categories to numbers\n",
        "*   \"-1\" is converted into [ 1.  0.  0.]\n",
        "*   \"0\" is converted into [ 0.  1.  0.]\n",
        "*   \"1\" is converted into [ 0.  0.  1.]"
      ],
      "metadata": {
        "id": "kUU11UmM_EJI"
      }
    },
    {
      "cell_type": "code",
      "source": [
        "sentiment_converter = {-1:0, 0:1, 1:2} # convert the sentiment -1 to 0, 0 to 1, 1 to 2\n",
        "number_of_sentiment_category = 3\n",
        "\n",
        "def convert_dataframe_to_numpy(dataframe):\n",
        "  return dataframe['Sentiment'].replace(sentiment_converter).to_numpy()\n",
        "\n",
        "def convert_category(dataframe):\n",
        "  new_numpy = convert_dataframe_to_numpy(dataframe)\n",
        "  return to_categorical(new_numpy, num_classes=number_of_sentiment_category)"
      ],
      "metadata": {
        "id": "gamKN4qVLyIY"
      },
      "execution_count": null,
      "outputs": []
    },
    {
      "cell_type": "code",
      "source": [
        "y_train = convert_category(df_train)\n",
        "y_test = convert_category(df_test)\n",
        "y_val = convert_category(df_val)"
      ],
      "metadata": {
        "id": "0xgyyoHPlMz-"
      },
      "execution_count": null,
      "outputs": []
    },
    {
      "cell_type": "markdown",
      "source": [
        "# Word embedding"
      ],
      "metadata": {
        "id": "-kdgXdh3AIv0"
      }
    },
    {
      "cell_type": "markdown",
      "source": [
        "### Create embedding matrix from pretrained GloVe file"
      ],
      "metadata": {
        "id": "TCMBkKQ9ARm7"
      }
    },
    {
      "cell_type": "code",
      "source": [
        "embedding_index = dict()\n",
        "with open('/content/drive/MyDrive/glove.6B.100d.txt', encoding='utf-8') as f:\n",
        "    for line in f:\n",
        "      values=line.split()\n",
        "      word=values[0]\n",
        "      vector = np.asarray(values[1:], 'float32')\n",
        "      embedding_index[word] = vector"
      ],
      "metadata": {
        "id": "AXTQ3gA42r0P"
      },
      "execution_count": null,
      "outputs": []
    },
    {
      "cell_type": "markdown",
      "source": [
        "### Maps each word index to its corresponding embedding vector"
      ],
      "metadata": {
        "id": "H5DhjgxDAzYo"
      }
    },
    {
      "cell_type": "code",
      "source": [
        "vocab_size = len(tokenizer.word_index) + 1\n",
        "vector_dimension = 100\n",
        "embedding_matrix = np.zeros((vocab_size ,vector_dimension))\n",
        "for word, i in tokenizer.word_index.items():\n",
        "  embedding_vector = embedding_index.get(word)\n",
        "  if embedding_vector is not None:\n",
        "    embedding_matrix[i] = embedding_vector"
      ],
      "metadata": {
        "id": "YGk8jPTjkInZ"
      },
      "execution_count": null,
      "outputs": []
    },
    {
      "cell_type": "markdown",
      "source": [
        "### Convert words in dataset to word embedding"
      ],
      "metadata": {
        "id": "9FeiwihyA8DI"
      }
    },
    {
      "cell_type": "code",
      "source": [
        "def convert_words_to_word_embedding(dataset):\n",
        "  rows_number = dataset.shape[0]\n",
        "  columns_number = dataset.shape[1]\n",
        "  new_array = np.zeros((rows_number, columns_number, vector_dimension)) # Create a new array filled with zeros.\n",
        "  for index, value in np.ndenumerate(dataset):\n",
        "    new_array[index] = embedding_matrix[value] # assign the value for each index in the array\n",
        "\n",
        "  return new_array"
      ],
      "metadata": {
        "id": "2ffCOmZy-HSG"
      },
      "execution_count": null,
      "outputs": []
    },
    {
      "cell_type": "code",
      "source": [
        "embedded_X_train = convert_words_to_word_embedding(X_train_pad)\n",
        "embedded_X_test = convert_words_to_word_embedding(X_test_pad)\n",
        "embedded_X_val = convert_words_to_word_embedding(X_val_pad)"
      ],
      "metadata": {
        "id": "VPvlcBpl_EYN"
      },
      "execution_count": null,
      "outputs": []
    },
    {
      "cell_type": "markdown",
      "source": [
        "# Create and train model"
      ],
      "metadata": {
        "id": "9h2eH6u3BF7B"
      }
    },
    {
      "cell_type": "code",
      "source": [
        "model = Sequential()\n",
        "model.add(Bidirectional(LSTM(units=50, return_sequences=True), input_shape=(max_length, vector_dimension)))\n",
        "model.add(Dropout(0.5))\n",
        "model.add(Flatten())\n",
        "model.add(Dense(units=number_of_sentiment_category))\n",
        "model.add(Activation('softmax'))\n",
        "defined_optimizer = tensorflow.keras.optimizers.SGD(learning_rate=0.01)\n",
        "model.compile(loss = 'categorical_crossentropy', optimizer = defined_optimizer, metrics = 'accuracy') # the type of loss is chosen because it is multi-class, single-label prediction\n",
        "\n",
        "print(model.summary())"
      ],
      "metadata": {
        "id": "HTRimIXIXKJZ"
      },
      "execution_count": null,
      "outputs": []
    },
    {
      "cell_type": "code",
      "source": [
        "# save the best model with highest validation accuracy after trained with all epochs\n",
        "model_checkpoint = ModelCheckpoint(filepath='/content/drive/MyDrive/model.h5', monitor = 'val_accuracy', mode = 'max', verbose = 1, save_best_only = True)\n",
        "\n",
        "history = model.fit(embedded_X_train, y_train, \n",
        "                    epochs=200, \n",
        "                    batch_size=500, \n",
        "                    validation_data=(embedded_X_val,y_val), \n",
        "                    verbose=1, \n",
        "                    callbacks = [model_checkpoint])"
      ],
      "metadata": {
        "id": "VzVyHsrutUrn"
      },
      "execution_count": null,
      "outputs": []
    },
    {
      "cell_type": "markdown",
      "source": [
        "# Model evaluation"
      ],
      "metadata": {
        "id": "LFVBx-hnBoj4"
      }
    },
    {
      "cell_type": "code",
      "source": [
        "best_model = load_model('/content/drive/MyDrive/model.h5')"
      ],
      "metadata": {
        "id": "Y8GXxnQn0U-4"
      },
      "execution_count": null,
      "outputs": []
    },
    {
      "cell_type": "code",
      "source": [
        "plt.plot(history.history['accuracy'])\n",
        "plt.plot(history.history['val_accuracy'])\n",
        "plt.title('model accuracy')\n",
        "plt.ylabel('accuracy')\n",
        "plt.xlabel('epoch')\n",
        "plt.legend(['train', 'validation'], loc='upper left')\n",
        "plt.show()"
      ],
      "metadata": {
        "id": "A11WihhnHMK4",
        "colab": {
          "base_uri": "https://localhost:8080/",
          "height": 295
        },
        "outputId": "7a6b6a27-bec6-47e7-e8a9-052c4073aecd"
      },
      "execution_count": null,
      "outputs": [
        {
          "output_type": "display_data",
          "data": {
            "image/png": "[encoded data removed]",
            "text/plain": [
              "<Figure size 432x288 with 1 Axes>"
            ]
          },
          "metadata": {
            "needs_background": "light"
          }
        }
      ]
    },
    {
      "cell_type": "code",
      "source": [
        "plt.plot(history.history['loss'])\n",
        "plt.plot(history.history['val_loss'])\n",
        "plt.title('model loss')\n",
        "plt.ylabel('loss')\n",
        "plt.xlabel('epoch')\n",
        "plt.legend(['train', 'validation'], loc='upper left')\n",
        "plt.show()"
      ],
      "metadata": {
        "id": "7X9AUNiwq-Td",
        "colab": {
          "base_uri": "https://localhost:8080/",
          "height": 295
        },
        "outputId": "eeff907d-7e5b-43a3-ec85-1b5fd68d79f5"
      },
      "execution_count": null,
      "outputs": [
        {
          "output_type": "display_data",
          "data": {
            "image/png": "[encoded data removed]",
            "text/plain": [
              "<Figure size 432x288 with 1 Axes>"
            ]
          },
          "metadata": {
            "needs_background": "light"
          }
        }
      ]
    },
    {
      "cell_type": "markdown",
      "source": [
        "# Prediction on test dataset"
      ],
      "metadata": {
        "id": "Xq0V5dxgB8a1"
      }
    },
    {
      "cell_type": "code",
      "source": [
        "y_pred =  np.argmax(best_model.predict(embedded_X_test), axis  =  1)\n",
        "y_true = np.argmax(y_test, axis = 1)\n",
        "\n",
        "print(metrics.classification_report(y_pred, y_true))"
      ],
      "metadata": {
        "id": "GOLhDQ5NHwHA",
        "colab": {
          "base_uri": "https://localhost:8080/"
        },
        "outputId": "9b127ab5-044d-49bb-a7a5-07bbfda517cf"
      },
      "execution_count": null,
      "outputs": [
        {
          "output_type": "stream",
          "name": "stdout",
          "text": [
            "              precision    recall  f1-score   support\n",
            "\n",
            "           0       0.47      0.68      0.56       179\n",
            "           1       0.42      0.57      0.48       226\n",
            "           2       0.81      0.60      0.69       595\n",
            "\n",
            "    accuracy                           0.60      1000\n",
            "   macro avg       0.57      0.61      0.58      1000\n",
            "weighted avg       0.66      0.60      0.62      1000\n",
            "\n"
          ]
        }
      ]
    },
    {
      "cell_type": "code",
      "source": [
        "cm = metrics.confusion_matrix(y_pred, y_true)\n",
        "sn.heatmap(cm, annot=True, fmt = '.2f')"
      ],
      "metadata": {
        "id": "kjVPb4JRXgwU",
        "colab": {
          "base_uri": "https://localhost:8080/",
          "height": 282
        },
        "outputId": "e94e9de6-d731-4105-a925-956dfa72a000"
      },
      "execution_count": null,
      "outputs": [
        {
          "output_type": "execute_result",
          "data": {
            "text/plain": [
              "<matplotlib.axes._subplots.AxesSubplot at 0x7f1e345f1190>"
            ]
          },
          "metadata": {},
          "execution_count": 19
        },
        {
          "output_type": "display_data",
          "data": {
            "image/png": "[encoded data removed]",
            "text/plain": [
              "<Figure size 432x288 with 2 Axes>"
            ]
          },
          "metadata": {
            "needs_background": "light"
          }
        }
      ]
    }
  ]
}